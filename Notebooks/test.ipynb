{
 "cells": [
  {
   "cell_type": "code",
   "execution_count": 1,
   "id": "74f0fa32",
   "metadata": {},
   "outputs": [
    {
     "name": "stderr",
     "output_type": "stream",
     "text": [
      "c:\\Users\\FOX\\anaconda3\\envs\\qwen\\lib\\site-packages\\tqdm\\auto.py:21: TqdmWarning: IProgress not found. Please update jupyter and ipywidgets. See https://ipywidgets.readthedocs.io/en/stable/user_install.html\n",
      "  from .autonotebook import tqdm as notebook_tqdm\n"
     ]
    }
   ],
   "source": [
    "from transformers import AutoModelForCausalLM, AutoTokenizer"
   ]
  },
  {
   "cell_type": "code",
   "execution_count": 2,
   "id": "a42a7c99",
   "metadata": {},
   "outputs": [
    {
     "name": "stderr",
     "output_type": "stream",
     "text": [
      "Xet Storage is enabled for this repo, but the 'hf_xet' package is not installed. Falling back to regular HTTP download. For better performance, install the package with: `pip install huggingface_hub[hf_xet]` or `pip install hf_xet`\n"
     ]
    }
   ],
   "source": [
    "model_name = \"Qwen/Qwen3-0.6B\"\n",
    "\n",
    "# load the tokenizer and the model\n",
    "tokenizer = AutoTokenizer.from_pretrained(model_name)"
   ]
  },
  {
   "cell_type": "code",
   "execution_count": 3,
   "id": "b77c00db",
   "metadata": {},
   "outputs": [],
   "source": [
    "from datasets import load_dataset\n",
    "\n",
    "ds = load_dataset(\"ihalage/sinhala-finetune-qa-eli5\")"
   ]
  },
  {
   "cell_type": "code",
   "execution_count": 4,
   "id": "f5a8265f",
   "metadata": {},
   "outputs": [],
   "source": [
    "import pandas as pd\n",
    "\n",
    "pd.DataFrame(ds[\"train\"]).to_csv(\"sinhala_finetune_qa_eli5.csv\", index=False)"
   ]
  },
  {
   "cell_type": "code",
   "execution_count": 5,
   "id": "1e293fce",
   "metadata": {},
   "outputs": [
    {
     "data": {
      "text/html": [
       "<div>\n",
       "<style scoped>\n",
       "    .dataframe tbody tr th:only-of-type {\n",
       "        vertical-align: middle;\n",
       "    }\n",
       "\n",
       "    .dataframe tbody tr th {\n",
       "        vertical-align: top;\n",
       "    }\n",
       "\n",
       "    .dataframe thead th {\n",
       "        text-align: right;\n",
       "    }\n",
       "</style>\n",
       "<table border=\"1\" class=\"dataframe\">\n",
       "  <thead>\n",
       "    <tr style=\"text-align: right;\">\n",
       "      <th></th>\n",
       "      <th>q_id</th>\n",
       "      <th>subreddit</th>\n",
       "      <th>url</th>\n",
       "      <th>sinhala_question</th>\n",
       "      <th>sinhala_answer</th>\n",
       "      <th>english_question</th>\n",
       "      <th>english_answer</th>\n",
       "    </tr>\n",
       "  </thead>\n",
       "  <tbody>\n",
       "    <tr>\n",
       "      <th>0</th>\n",
       "      <td>32wvn8</td>\n",
       "      <td>explainlikeimfive</td>\n",
       "      <td>http://www.reddit.com/r/explainlikeimfive/comm...</td>\n",
       "      <td>වනාන්තරයක් සහ කැළයක් අතර වෙනස කුමක්ද?</td>\n",
       "      <td>ඒවා එකිනෙකට හුවමාරු ලෙස බොහෝ විට භාවිතා වේ. ඔබ...</td>\n",
       "      <td>what's the difference between a forest and a w...</td>\n",
       "      <td>They're used interchangeably a lot. You'll get...</td>\n",
       "    </tr>\n",
       "    <tr>\n",
       "      <th>1</th>\n",
       "      <td>1yc9zg</td>\n",
       "      <td>AskHistorians</td>\n",
       "      <td>http://www.reddit.com/r/AskHistorians/comments...</td>\n",
       "      <td>Warsaw Ghetto හි මාර්ගගතව ලබා ගැනීමට හොඳ මූලාශ...</td>\n",
       "      <td>අදාළ ප්‍රාථමික මූලාශ්‍ර බොහොමයක එම නිශ්චිත විස...</td>\n",
       "      <td>Are there any good source material on the Wars...</td>\n",
       "      <td>Many of the relevant primary sources wont cont...</td>\n",
       "    </tr>\n",
       "    <tr>\n",
       "      <th>2</th>\n",
       "      <td>elzx1n</td>\n",
       "      <td>explainlikeimfive</td>\n",
       "      <td>https://www.reddit.com/r/explainlikeimfive/com...</td>\n",
       "      <td>අපි අපේ ශරීරයේ කොටසක් තුවාල වූ පසු සහජයෙන්ම අල...</td>\n",
       "      <td>අ) සහජ බුද්ධිය. එය තවදුරටත් හානි වලින් ආරක්ෂා ...</td>\n",
       "      <td>we do we instinctively grab a part of our body...</td>\n",
       "      <td>A) instinct. To protect it from further damage...</td>\n",
       "    </tr>\n",
       "    <tr>\n",
       "      <th>3</th>\n",
       "      <td>1j7pwx</td>\n",
       "      <td>AskHistorians</td>\n",
       "      <td>http://www.reddit.com/r/AskHistorians/comments...</td>\n",
       "      <td>දහතුන්වන සංශෝධනය සම්මත වීමෙන් පසුව, වහල් හිමිය...</td>\n",
       "      <td>සිවිල් යුද්ධයෙන් පසු වසර කිහිපය තුළ දකුණ පුරා ...</td>\n",
       "      <td>Following the passing of the Thirteenth Amendm...</td>\n",
       "      <td>All across the South during the years followin...</td>\n",
       "    </tr>\n",
       "    <tr>\n",
       "      <th>4</th>\n",
       "      <td>3qr7uu</td>\n",
       "      <td>AskHistorians</td>\n",
       "      <td>https://www.reddit.com/r/AskHistorians/comment...</td>\n",
       "      <td>මධ්‍යතන යුගයේ සහ පූර්ව නූතන යුගයේ දේශපාලන ආයතන...</td>\n",
       "      <td>අවුරුදු විස්සක සාමය කිසි සේත්ම සාමයක් නොමැති ව...</td>\n",
       "      <td>In medieval and pre-modern times, political en...</td>\n",
       "      <td>Twenty years of peace is much better than no p...</td>\n",
       "    </tr>\n",
       "  </tbody>\n",
       "</table>\n",
       "</div>"
      ],
      "text/plain": [
       "     q_id          subreddit  \\\n",
       "0  32wvn8  explainlikeimfive   \n",
       "1  1yc9zg      AskHistorians   \n",
       "2  elzx1n  explainlikeimfive   \n",
       "3  1j7pwx      AskHistorians   \n",
       "4  3qr7uu      AskHistorians   \n",
       "\n",
       "                                                 url  \\\n",
       "0  http://www.reddit.com/r/explainlikeimfive/comm...   \n",
       "1  http://www.reddit.com/r/AskHistorians/comments...   \n",
       "2  https://www.reddit.com/r/explainlikeimfive/com...   \n",
       "3  http://www.reddit.com/r/AskHistorians/comments...   \n",
       "4  https://www.reddit.com/r/AskHistorians/comment...   \n",
       "\n",
       "                                    sinhala_question  \\\n",
       "0              වනාන්තරයක් සහ කැළයක් අතර වෙනස කුමක්ද?   \n",
       "1  Warsaw Ghetto හි මාර්ගගතව ලබා ගැනීමට හොඳ මූලාශ...   \n",
       "2  අපි අපේ ශරීරයේ කොටසක් තුවාල වූ පසු සහජයෙන්ම අල...   \n",
       "3  දහතුන්වන සංශෝධනය සම්මත වීමෙන් පසුව, වහල් හිමිය...   \n",
       "4  මධ්‍යතන යුගයේ සහ පූර්ව නූතන යුගයේ දේශපාලන ආයතන...   \n",
       "\n",
       "                                      sinhala_answer  \\\n",
       "0  ඒවා එකිනෙකට හුවමාරු ලෙස බොහෝ විට භාවිතා වේ. ඔබ...   \n",
       "1  අදාළ ප්‍රාථමික මූලාශ්‍ර බොහොමයක එම නිශ්චිත විස...   \n",
       "2  අ) සහජ බුද්ධිය. එය තවදුරටත් හානි වලින් ආරක්ෂා ...   \n",
       "3  සිවිල් යුද්ධයෙන් පසු වසර කිහිපය තුළ දකුණ පුරා ...   \n",
       "4  අවුරුදු විස්සක සාමය කිසි සේත්ම සාමයක් නොමැති ව...   \n",
       "\n",
       "                                    english_question  \\\n",
       "0  what's the difference between a forest and a w...   \n",
       "1  Are there any good source material on the Wars...   \n",
       "2  we do we instinctively grab a part of our body...   \n",
       "3  Following the passing of the Thirteenth Amendm...   \n",
       "4  In medieval and pre-modern times, political en...   \n",
       "\n",
       "                                      english_answer  \n",
       "0  They're used interchangeably a lot. You'll get...  \n",
       "1  Many of the relevant primary sources wont cont...  \n",
       "2  A) instinct. To protect it from further damage...  \n",
       "3  All across the South during the years followin...  \n",
       "4  Twenty years of peace is much better than no p...  "
      ]
     },
     "execution_count": 5,
     "metadata": {},
     "output_type": "execute_result"
    }
   ],
   "source": [
    "df = pd.read_csv(\"sinhala_finetune_qa_eli5.csv\")\n",
    "\n",
    "df.head()"
   ]
  },
  {
   "cell_type": "code",
   "execution_count": 9,
   "id": "10f85a4c",
   "metadata": {},
   "outputs": [
    {
     "data": {
      "text/plain": [
       "'වනාන්තරයක් සහ කැළයක් අතර වෙනස කුමක්ද?'"
      ]
     },
     "execution_count": 9,
     "metadata": {},
     "output_type": "execute_result"
    }
   ],
   "source": [
    "df.iloc[0, 3] "
   ]
  },
  {
   "cell_type": "code",
   "execution_count": 13,
   "id": "b25ba5ec",
   "metadata": {},
   "outputs": [
    {
     "name": "stdout",
     "output_type": "stream",
     "text": [
      "['à·Ģ', 'à¶±', 'à·', 'ı', 'à¶±', 'à·', 'Ĭ', 'à¶Ń', 'à¶»', 'à¶º', 'à¶ļ', 'à·', 'Ĭ', 'Ġà', '·', 'ĥ', 'à·Ħ', 'Ġà', '¶ļ', 'à·', 'Ĳ', 'à·', 'ħ', 'à¶º', 'à¶ļ', 'à·', 'Ĭ', 'Ġà', '¶', 'ħ', 'à¶Ń', 'à¶»', 'Ġà', '·', 'Ģ', 'à·', 'Ļ', 'à¶±', 'à·ĥ', 'Ġà', '¶ļ', 'à·', 'Ķ', 'à¶¸', 'à¶ļ', 'à·', 'Ĭ', 'à¶¯', '?']\n"
     ]
    }
   ],
   "source": [
    "tokens = tokenizer.tokenize(df.iloc[0, 3])\n",
    "\n",
    "print(tokens)"
   ]
  },
  {
   "cell_type": "code",
   "execution_count": 43,
   "id": "06b55dcc",
   "metadata": {},
   "outputs": [],
   "source": [
    "training_corpus = df[\"sinhala_question\"].to_list() + df[\"sinhala_answer\"].to_list()"
   ]
  },
  {
   "cell_type": "code",
   "execution_count": 44,
   "id": "741e1b6b",
   "metadata": {},
   "outputs": [
    {
     "data": {
      "text/plain": [
       "20000"
      ]
     },
     "execution_count": 44,
     "metadata": {},
     "output_type": "execute_result"
    }
   ],
   "source": [
    "len(training_corpus)"
   ]
  },
  {
   "cell_type": "code",
   "execution_count": 50,
   "id": "6c5b8cbf",
   "metadata": {},
   "outputs": [],
   "source": [
    "def get_training_corpus():\n",
    "    for start_idex in range(0, len(training_corpus), 1000):\n",
    "        yield training_corpus[start_idex:start_idex + 1000]"
   ]
  },
  {
   "cell_type": "code",
   "execution_count": 51,
   "id": "b302480d",
   "metadata": {},
   "outputs": [],
   "source": [
    "new_tokernizer = tokenizer.train_new_from_iterator(\n",
    "    get_training_corpus(),\n",
    "    52000\n",
    ")\n",
    "    "
   ]
  },
  {
   "cell_type": "code",
   "execution_count": null,
   "id": "c4edc7f5",
   "metadata": {},
   "outputs": [
    {
     "data": {
      "text/plain": [
       "['à¶Ĩà¶º',\n",
       " 'à·Ķà¶¶',\n",
       " 'à·Ŀà·Ģà¶±',\n",
       " 'à·Ĭ,',\n",
       " 'Ġà¶Ķà¶¶à¶§',\n",
       " 'Ġà¶ļ',\n",
       " 'à·Ļà·ĥ',\n",
       " 'à·ļà¶¯',\n",
       " '?']"
      ]
     },
     "execution_count": 53,
     "metadata": {},
     "output_type": "execute_result"
    }
   ],
   "source": [
    "new_tokernizer.tokenize(\"ආයුබෝවන්, ඔබට කෙසේද?\")"
   ]
  },
  {
   "cell_type": "code",
   "execution_count": null,
   "id": "747f9520",
   "metadata": {},
   "outputs": [],
   "source": []
  }
 ],
 "metadata": {
  "kernelspec": {
   "display_name": "qwen",
   "language": "python",
   "name": "python3"
  },
  "language_info": {
   "codemirror_mode": {
    "name": "ipython",
    "version": 3
   },
   "file_extension": ".py",
   "mimetype": "text/x-python",
   "name": "python",
   "nbconvert_exporter": "python",
   "pygments_lexer": "ipython3",
   "version": "3.10.18"
  }
 },
 "nbformat": 4,
 "nbformat_minor": 5
}
